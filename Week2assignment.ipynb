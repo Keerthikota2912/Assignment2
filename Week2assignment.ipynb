{
 "cells": [
  {
   "cell_type": "code",
   "execution_count": 1,
   "id": "cd6de54a-873c-4c44-a133-a9f23436a530",
   "metadata": {},
   "outputs": [],
   "source": [
    "#comments in a code"
   ]
  },
  {
   "cell_type": "code",
   "execution_count": null,
   "id": "27bac887-8f29-4fd1-ac27-65cdab3b5044",
   "metadata": {},
   "outputs": [],
   "source": [
    "'''This is multiline comment\n",
    "data science masters'''"
   ]
  },
  {
   "cell_type": "markdown",
   "id": "59fe6390-e782-4ebf-9ced-602d18dd4d28",
   "metadata": {},
   "source": [
    "There are two types of comments.They are:\n",
    "Single line comment, denoted by # ;\n",
    "Multi line comment, denoted by '''\n"
   ]
  },
  {
   "cell_type": "code",
   "execution_count": null,
   "id": "f924adfa-6e0f-424f-8325-2d9c46b57167",
   "metadata": {},
   "outputs": [],
   "source": [
    "#variables"
   ]
  },
  {
   "cell_type": "markdown",
   "id": "59138778-fe19-4bd3-8127-64a15ab1bf3b",
   "metadata": {},
   "source": [
    "A variable is an entity that stores data temperorily. A variable can be declared as alphabets, combination of alphabet and numbers, except special characters "
   ]
  },
  {
   "cell_type": "code",
   "execution_count": 12,
   "id": "d0ad6d86-6c17-4597-87e9-266b8fd89e41",
   "metadata": {},
   "outputs": [],
   "source": [
    "a_1=10\n",
    "a,b,c=1,2,3\n",
    "num=55\n",
    "#a,b,c,a_1,num are the variables."
   ]
  },
  {
   "cell_type": "code",
   "execution_count": 13,
   "id": "2becba80-9368-4095-bd8d-4e09dedfa35e",
   "metadata": {},
   "outputs": [
    {
     "data": {
      "text/plain": [
       "10"
      ]
     },
     "execution_count": 13,
     "metadata": {},
     "output_type": "execute_result"
    }
   ],
   "source": [
    "a_1"
   ]
  },
  {
   "cell_type": "code",
   "execution_count": 14,
   "id": "064e1b0b-a555-48de-b41b-6bcd99a4e24a",
   "metadata": {},
   "outputs": [
    {
     "data": {
      "text/plain": [
       "(1, 2, 3)"
      ]
     },
     "execution_count": 14,
     "metadata": {},
     "output_type": "execute_result"
    }
   ],
   "source": [
    "a,b,c"
   ]
  },
  {
   "cell_type": "code",
   "execution_count": 15,
   "id": "b4482e9b-2915-4683-846e-18381013fecc",
   "metadata": {},
   "outputs": [
    {
     "data": {
      "text/plain": [
       "55"
      ]
     },
     "execution_count": 15,
     "metadata": {},
     "output_type": "execute_result"
    }
   ],
   "source": [
    "num"
   ]
  },
  {
   "cell_type": "code",
   "execution_count": 26,
   "id": "f6d7c733-e48c-4a4a-aa26-1f859d3b82a4",
   "metadata": {},
   "outputs": [],
   "source": [
    "a=10"
   ]
  },
  {
   "cell_type": "code",
   "execution_count": null,
   "id": "c879c735-6286-4afb-8848-60b49fb0ca89",
   "metadata": {},
   "outputs": [],
   "source": [
    "#Convert a datatype into another datatype"
   ]
  },
  {
   "cell_type": "code",
   "execution_count": 27,
   "id": "e5e84505-a15d-4fe8-b623-6e72649c3591",
   "metadata": {},
   "outputs": [
    {
     "data": {
      "text/plain": [
       "int"
      ]
     },
     "execution_count": 27,
     "metadata": {},
     "output_type": "execute_result"
    }
   ],
   "source": [
    "type(a)"
   ]
  },
  {
   "cell_type": "code",
   "execution_count": 28,
   "id": "491d3793-070f-4d3a-aec8-b6d4c6e87139",
   "metadata": {},
   "outputs": [
    {
     "data": {
      "text/plain": [
       "'10'"
      ]
     },
     "execution_count": 28,
     "metadata": {},
     "output_type": "execute_result"
    }
   ],
   "source": [
    "str(a)"
   ]
  },
  {
   "cell_type": "code",
   "execution_count": 30,
   "id": "fa8ff2da-2aa1-436b-aaee-db7d7c66438a",
   "metadata": {},
   "outputs": [],
   "source": [
    "lst=[1,2,3,4]"
   ]
  },
  {
   "cell_type": "code",
   "execution_count": 31,
   "id": "b68e6384-66d5-4a0f-9614-7cae83370858",
   "metadata": {},
   "outputs": [
    {
     "data": {
      "text/plain": [
       "[1, 2, 3, 4]"
      ]
     },
     "execution_count": 31,
     "metadata": {},
     "output_type": "execute_result"
    }
   ],
   "source": [
    "lst"
   ]
  },
  {
   "cell_type": "code",
   "execution_count": 32,
   "id": "b6dfb704-1b7a-46f1-98cf-2913b684f054",
   "metadata": {},
   "outputs": [
    {
     "data": {
      "text/plain": [
       "(1, 2, 3, 4)"
      ]
     },
     "execution_count": 32,
     "metadata": {},
     "output_type": "execute_result"
    }
   ],
   "source": [
    "tuple(lst)"
   ]
  },
  {
   "cell_type": "code",
   "execution_count": 33,
   "id": "05f62d07-074f-4584-9057-ea50f8ac7295",
   "metadata": {},
   "outputs": [],
   "source": [
    "a='keerthi'"
   ]
  },
  {
   "cell_type": "code",
   "execution_count": 35,
   "id": "c1b172cd-9f2f-49b8-812c-b0c007f929a1",
   "metadata": {},
   "outputs": [
    {
     "data": {
      "text/plain": [
       "['k', 'e', 'e', 'r', 't', 'h', 'i']"
      ]
     },
     "execution_count": 35,
     "metadata": {},
     "output_type": "execute_result"
    }
   ],
   "source": [
    "list(a)"
   ]
  },
  {
   "cell_type": "code",
   "execution_count": 38,
   "id": "68f4ef64-35f4-4ee2-86e7-c87f2575b6f9",
   "metadata": {},
   "outputs": [],
   "source": [
    "#How to write and execute a command line"
   ]
  },
  {
   "cell_type": "code",
   "execution_count": 41,
   "id": "4c348e35-f217-461e-b840-03294a701123",
   "metadata": {},
   "outputs": [
    {
     "name": "stdout",
     "output_type": "stream",
     "text": [
      "250\n"
     ]
    }
   ],
   "source": [
    "a= 100\n",
    "b=150\n",
    "c=a+b\n",
    "print(c)"
   ]
  },
  {
   "cell_type": "code",
   "execution_count": 42,
   "id": "e7353365-f363-4069-ab71-408d3a709402",
   "metadata": {},
   "outputs": [],
   "source": [
    "#to obtain a sublist by using slicing"
   ]
  },
  {
   "cell_type": "code",
   "execution_count": 43,
   "id": "6e965ef2-2afa-434b-a7f1-76fee65d72dd",
   "metadata": {},
   "outputs": [],
   "source": [
    " my_list=[1,2,3,4,5]"
   ]
  },
  {
   "cell_type": "code",
   "execution_count": 48,
   "id": "3c9ad0b0-753e-4453-b130-8ffb70d648aa",
   "metadata": {},
   "outputs": [
    {
     "data": {
      "text/plain": [
       "[2, 3]"
      ]
     },
     "execution_count": 48,
     "metadata": {},
     "output_type": "execute_result"
    }
   ],
   "source": [
    "my_list[1:3]"
   ]
  },
  {
   "cell_type": "code",
   "execution_count": 49,
   "id": "86ff62ac-72a5-4c97-906e-208bce6c7bdc",
   "metadata": {},
   "outputs": [],
   "source": [
    "#complex number in pythom"
   ]
  },
  {
   "cell_type": "markdown",
   "id": "f5d38736-8d20-4584-9fdd-b3b910b0c30e",
   "metadata": {},
   "source": [
    "A complex number consists of real part and imaginary part. i.e., a+ib form"
   ]
  },
  {
   "cell_type": "code",
   "execution_count": 50,
   "id": "ac255d62-c813-42f8-8a6b-794b72c3710b",
   "metadata": {},
   "outputs": [],
   "source": [
    "complex=4+7j"
   ]
  },
  {
   "cell_type": "code",
   "execution_count": 51,
   "id": "c1bff255-0408-4a6d-86b6-c68e50f340c1",
   "metadata": {},
   "outputs": [
    {
     "data": {
      "text/plain": [
       "(4+7j)"
      ]
     },
     "execution_count": 51,
     "metadata": {},
     "output_type": "execute_result"
    }
   ],
   "source": [
    "complex"
   ]
  },
  {
   "cell_type": "code",
   "execution_count": 52,
   "id": "d641b9f8-309d-40a4-bf79-42864006ba1b",
   "metadata": {},
   "outputs": [],
   "source": [
    "#correct way to declare a variable"
   ]
  },
  {
   "cell_type": "code",
   "execution_count": 53,
   "id": "7f80bb86-ce06-4d9d-ab74-4cb6482dced5",
   "metadata": {},
   "outputs": [],
   "source": [
    "age=25"
   ]
  },
  {
   "cell_type": "code",
   "execution_count": 54,
   "id": "a72839d1-9fa0-4248-b45f-167c483bb357",
   "metadata": {},
   "outputs": [
    {
     "data": {
      "text/plain": [
       "25"
      ]
     },
     "execution_count": 54,
     "metadata": {},
     "output_type": "execute_result"
    }
   ],
   "source": [
    "age"
   ]
  },
  {
   "cell_type": "code",
   "execution_count": 55,
   "id": "4be2249a-b80d-446d-a703-a5eb953eabe4",
   "metadata": {},
   "outputs": [],
   "source": [
    "#declare variable and to find datatype"
   ]
  },
  {
   "cell_type": "code",
   "execution_count": 56,
   "id": "cd0ec0ff-b139-446e-8b39-9df790b25ec6",
   "metadata": {},
   "outputs": [],
   "source": [
    "price=9.99"
   ]
  },
  {
   "cell_type": "code",
   "execution_count": 57,
   "id": "8bedcac4-c360-4e39-9e7b-439312dabb3f",
   "metadata": {},
   "outputs": [
    {
     "data": {
      "text/plain": [
       "float"
      ]
     },
     "execution_count": 57,
     "metadata": {},
     "output_type": "execute_result"
    }
   ],
   "source": [
    "type(price)"
   ]
  },
  {
   "cell_type": "code",
   "execution_count": 58,
   "id": "0af0d2ba-85c9-47ee-a118-23c7c9625809",
   "metadata": {},
   "outputs": [],
   "source": [
    "#create variable named name and assign our name"
   ]
  },
  {
   "cell_type": "code",
   "execution_count": 59,
   "id": "85743e17-a63f-4eab-8d97-79f77f123d1c",
   "metadata": {},
   "outputs": [],
   "source": [
    "name='Keerthi Naga Venkata Durga'"
   ]
  },
  {
   "cell_type": "code",
   "execution_count": 62,
   "id": "14af705a-d74b-421e-9253-85ac7408a8ae",
   "metadata": {},
   "outputs": [
    {
     "data": {
      "text/plain": [
       "'Keerthi Naga Venkata Durga'"
      ]
     },
     "execution_count": 62,
     "metadata": {},
     "output_type": "execute_result"
    }
   ],
   "source": [
    "name"
   ]
  },
  {
   "cell_type": "code",
   "execution_count": 63,
   "id": "118cede2-9012-4226-9538-be0c90f5acbf",
   "metadata": {},
   "outputs": [],
   "source": [
    "#extract sub string"
   ]
  },
  {
   "cell_type": "code",
   "execution_count": 64,
   "id": "12825056-4186-48a9-9ae2-621533397b56",
   "metadata": {},
   "outputs": [],
   "source": [
    "str='Hello, world!'"
   ]
  },
  {
   "cell_type": "code",
   "execution_count": 67,
   "id": "d60717b7-58a1-497d-a523-7d2b4543fcc2",
   "metadata": {},
   "outputs": [
    {
     "data": {
      "text/plain": [
       "'world'"
      ]
     },
     "execution_count": 67,
     "metadata": {},
     "output_type": "execute_result"
    }
   ],
   "source": [
    "str[7:12]"
   ]
  },
  {
   "cell_type": "code",
   "execution_count": 68,
   "id": "4b411453-62f3-4daf-b401-69f23d0a3ee2",
   "metadata": {},
   "outputs": [],
   "source": [
    "#assign a boolean value"
   ]
  },
  {
   "cell_type": "code",
   "execution_count": 78,
   "id": "81d2cb5c-3605-42c8-8c6c-4ebed88179a4",
   "metadata": {},
   "outputs": [],
   "source": [
    "is_student=True"
   ]
  },
  {
   "cell_type": "code",
   "execution_count": 79,
   "id": "1a409961-7a88-427e-a5af-997f387201da",
   "metadata": {},
   "outputs": [
    {
     "data": {
      "text/plain": [
       "True"
      ]
     },
     "execution_count": 79,
     "metadata": {},
     "output_type": "execute_result"
    }
   ],
   "source": [
    "is_student"
   ]
  },
  {
   "cell_type": "code",
   "execution_count": 80,
   "id": "5315d34f-efd5-4be1-a326-b01d6cba4d07",
   "metadata": {},
   "outputs": [
    {
     "data": {
      "text/plain": [
       "bool"
      ]
     },
     "execution_count": 80,
     "metadata": {},
     "output_type": "execute_result"
    }
   ],
   "source": [
    "type(is_student)"
   ]
  },
  {
   "cell_type": "code",
   "execution_count": null,
   "id": "cfe0574a-ffd6-4339-8ed1-827a619eda20",
   "metadata": {},
   "outputs": [],
   "source": []
  }
 ],
 "metadata": {
  "kernelspec": {
   "display_name": "Python 3 (ipykernel)",
   "language": "python",
   "name": "python3"
  },
  "language_info": {
   "codemirror_mode": {
    "name": "ipython",
    "version": 3
   },
   "file_extension": ".py",
   "mimetype": "text/x-python",
   "name": "python",
   "nbconvert_exporter": "python",
   "pygments_lexer": "ipython3",
   "version": "3.10.8"
  }
 },
 "nbformat": 4,
 "nbformat_minor": 5
}
